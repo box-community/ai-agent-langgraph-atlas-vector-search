{
 "cells": [
  {
   "cell_type": "markdown",
   "id": "1b32f20e",
   "metadata": {},
   "source": [
    "### Instantiate a Box client"
   ]
  },
  {
   "cell_type": "code",
   "execution_count": 1,
   "id": "ae268acc",
   "metadata": {},
   "outputs": [
    {
     "name": "stdout",
     "output_type": "stream",
     "text": [
      "Connected to Box as RB Admin (31519033281)\n"
     ]
    }
   ],
   "source": [
    "import os\n",
    "from dotenv import load_dotenv\n",
    "from box_sdk_gen import (\n",
    "    BoxCCGAuth, \n",
    "    CCGConfig, \n",
    "    BoxClient, \n",
    "    FileTokenStorage,\n",
    "    BoxAPIError,\n",
    ")\n",
    "# Read the .env configuration file\n",
    "load_dotenv()\n",
    "\n",
    "client_id = os.getenv(\"BOX_CLIENT_ID\")\n",
    "client_secret = os.getenv(\"BOX_CLIENT_SECRET\")\n",
    "user_id = os.getenv(\"BOX_SUBJECT_ID\")\n",
    "\n",
    "# Create a BoxCCGConfig instance\n",
    "config = CCGConfig(client_id=client_id,\n",
    "                   client_secret=client_secret,\n",
    "                   user_id=user_id,\n",
    "                   token_storage=FileTokenStorage(\".ccg.db\"))\n",
    "# Create a BoxCCGAuth instance\n",
    "auth = BoxCCGAuth(config)\n",
    "# Create a BoxClient instance\n",
    "client = BoxClient(auth)\n",
    "# Test the connection\n",
    "try:\n",
    "    user = client.users.get_user_me()\n",
    "    print(f\"Connected to Box as {user.name} ({user.id})\")\n",
    "except BoxAPIError as e:\n",
    "    print(f\"Failed to connect to Box: {e}\")\n",
    "    exit(1)"
   ]
  },
  {
   "cell_type": "code",
   "execution_count": 2,
   "id": "aac16b22",
   "metadata": {},
   "outputs": [
    {
     "name": "stdout",
     "output_type": "stream",
     "text": [
      "Created folder: Q4 Tech earnings-Demo (323228490092)\n",
      "File already exists: Apple_analysis.docx (1874924987657)\n",
      "File already exists: Tesla_analysis.docx (1874969973544)\n",
      "File already exists: Microsoft_analysis.docx (1874972038992)\n",
      "File already exists: Meta_analysis.docx (1874954337477)\n",
      "File already exists: NVIDIA_analysis.docx (1874960079989)\n"
     ]
    }
   ],
   "source": [
    "from box_sdk_gen import CreateFolderParent, UploadFileAttributes, UploadFileAttributesParentField\n",
    "\n",
    "# Upload sample data to the Box instance\n",
    "\n",
    "def upload_folder(client: BoxClient, folder_id, local_folder_path)->str:\n",
    "    # Create a new folder in Box\n",
    "    try:\n",
    "        box_folder = client.folders.create_folder(\n",
    "            name=os.path.basename(local_folder_path),\n",
    "            parent=CreateFolderParent(id=folder_id))\n",
    "    except BoxAPIError as e:\n",
    "        if e.response_info.body['status'] == 409:\n",
    "            # Folder already exists, get its ID\n",
    "            box_folder = client.folders.get_folder_by_id(\n",
    "                e.response_info.body['context_info']['conflicts'][0]['id'])\n",
    "\n",
    "    print(f\"Created folder: {box_folder.name} ({box_folder.id})\")\n",
    "\n",
    "    # Upload files to the new folder\n",
    "    local_folder_path = os.path.abspath(local_folder_path)\n",
    "    for root, _, files in os.walk(local_folder_path):\n",
    "        for file_name in files:\n",
    "            file_path = os.path.join(root, file_name)\n",
    "            parent = UploadFileAttributesParentField(id=box_folder.id,\n",
    "                                                     type=\"folder\")\n",
    "            file_attributes = UploadFileAttributes(\n",
    "                name=file_name,\n",
    "                parent=parent,\n",
    "            )\n",
    "            with open(file_path, 'rb') as file_stream:\n",
    "                \n",
    "                try:\n",
    "                    box_file = client.uploads.upload_file(\n",
    "                        attributes=file_attributes, file=file_stream).entries[0]\n",
    "                    print(f\"Uploaded file: {box_file.name} ({box_file.id})\")\n",
    "                except BoxAPIError as e:\n",
    "                    if e.response_info.body['status'] == 409:\n",
    "                        print(f\"File already exists: {file_name} ({e.response_info.context_info['conflicts']['id']})\")\n",
    "\n",
    "    return box_folder.id\n",
    "local_folder_path = \"sample_data/Q4 Tech earnings-Demo\"\n",
    "box_folder_id = upload_folder(client, \"0\", local_folder_path)"
   ]
  },
  {
   "cell_type": "code",
   "execution_count": 3,
   "id": "2e8fdbd7",
   "metadata": {},
   "outputs": [],
   "source": [
    "import os\n",
    "load_dotenv()\n",
    "OPENAI_API_KEY=os.getenv(\"OPENAI_API_KEY\")\n",
    "MONGODB_URI=os.getenv(\"MONGODB_URI\")"
   ]
  },
  {
   "cell_type": "code",
   "execution_count": 4,
   "id": "bca87567",
   "metadata": {},
   "outputs": [],
   "source": [
    "from langchain_mongodb import MongoDBAtlasVectorSearch\n",
    "from langchain_openai import OpenAIEmbeddings\n",
    "embedding_model = OpenAIEmbeddings()\n",
    "# Instantiate vector store\n",
    "vector_store = MongoDBAtlasVectorSearch.from_connection_string(\n",
    "   connection_string = MONGODB_URI,\n",
    "   namespace = \"langchain_db.earnings_rag\",\n",
    "   embedding=embedding_model,\n",
    "   index_name=\"vector_index\"\n",
    ")"
   ]
  },
  {
   "cell_type": "code",
   "execution_count": 5,
   "id": "5cb7e972",
   "metadata": {},
   "outputs": [],
   "source": [
    "from langchain_box.document_loaders import BoxLoader\n",
    "from langchain.text_splitter import RecursiveCharacterTextSplitter\n",
    "\n",
    "auth_token = auth.retrieve_token().access_token\n",
    "# Load the PDF\n",
    "loader = BoxLoader(box_developer_token=auth_token,\n",
    "                   box_folder_id=box_folder_id,\n",
    "                   )\n",
    "data = loader.load()\n",
    "\n",
    "# Split PDF into documents\n",
    "text_splitter = RecursiveCharacterTextSplitter(chunk_size=200, chunk_overlap=20)\n",
    "docs = text_splitter.split_documents(data)\n",
    "\n",
    "# Add data to the vector store\n",
    "vector_store.add_documents(docs)\n",
    "\n",
    "# Use helper method to create the vector search index\n",
    "vector_store.create_vector_search_index(\n",
    "   dimensions = 1536\n",
    ")"
   ]
  },
  {
   "cell_type": "code",
   "execution_count": 6,
   "id": "24ff6bef",
   "metadata": {},
   "outputs": [
    {
     "name": "stdout",
     "output_type": "stream",
     "text": [
      "('The major tech companies are likely concerned with the trajectory around '\n",
      " 'infrastructure and capital expenditures (capex) in the next few months. '\n",
      " 'However, it is indicated that it might be too early to have a strong opinion '\n",
      " 'on what this means for them.')\n",
      "\n",
      "Source documents:\n",
      "[Document(id='68361740d5e188fcf0b37b30', metadata={'_id': '68361740d5e188fcf0b37b30', 'source': 'https://dl.boxcloud.com/api/2.0/internal_files/1874969973544/versions/2067810227944/representations/extracted_text/content/', 'title': 'Tesla_analysis_docx'}, page_content='companies that are outside of Tesla in maybe the second half of next year, something like that.'),\n",
      " Document(id='683624d1ad50fb0f8fa49f97', metadata={'_id': '683624d1ad50fb0f8fa49f97', 'source': 'https://dl.boxcloud.com/api/2.0/internal_files/1874969973544/versions/2067810227944/representations/extracted_text/content/', 'title': 'Tesla_analysis_docx'}, page_content='companies that are outside of Tesla in maybe the second half of next year, something like that.'),\n",
      " Document(id='68361740d5e188fcf0b37756', metadata={'_id': '68361740d5e188fcf0b37756', 'source': 'https://dl.boxcloud.com/api/2.0/internal_files/1874954337477/versions/2067794464677/representations/extracted_text/content/', 'title': 'Meta_analysis_docx'}, page_content=\"how the technology industry goes. I don't know -- it's probably too early to really have a strong opinion on what this means for the trajectory around infrastructure and capex and things like that.\"),\n",
      " Document(id='683624d1ad50fb0f8fa49bbd', metadata={'_id': '683624d1ad50fb0f8fa49bbd', 'source': 'https://dl.boxcloud.com/api/2.0/internal_files/1874954337477/versions/2067794464677/representations/extracted_text/content/', 'title': 'Meta_analysis_docx'}, page_content=\"how the technology industry goes. I don't know -- it's probably too early to really have a strong opinion on what this means for the trajectory around infrastructure and capex and things like that.\")]\n"
     ]
    }
   ],
   "source": [
    "import pprint\n",
    "from langchain_openai import ChatOpenAI\n",
    "from langchain_core.prompts import PromptTemplate\n",
    "from langchain_core.output_parsers import StrOutputParser\n",
    "from langchain_core.runnables import RunnablePassthrough\n",
    "\n",
    "llm = ChatOpenAI(model = \"gpt-4o\")\n",
    "\n",
    "# Instantiate Atlas Vector Search as a retriever\n",
    "retriever = vector_store.as_retriever()\n",
    "\n",
    "# Define prompt template\n",
    "template = \"\"\"\n",
    "Use the following pieces of context to answer the question at the end.\n",
    "{context}\n",
    "Question: {question}\n",
    "\"\"\"\n",
    "custom_rag_prompt = PromptTemplate.from_template(template)\n",
    "\n",
    "def format_docs(docs):\n",
    "   return \"\\n\\n\".join(doc.page_content for doc in docs)\n",
    "\n",
    "# Create chain\n",
    "rag_chain = (\n",
    "   {\"context\": retriever | format_docs, \"question\": RunnablePassthrough()}\n",
    "   | custom_rag_prompt\n",
    "   | llm\n",
    "   | StrOutputParser()\n",
    ")\n",
    "# Prompt the chain\n",
    "question = \"What are the major tech companies concerned with in the next few months?\"\n",
    "answer = rag_chain.invoke(question)\n",
    "pprint.pprint(answer)\n",
    "\n",
    "# Return source documents\n",
    "documents = retriever.invoke(question)\n",
    "print(\"\\nSource documents:\")\n",
    "pprint.pprint(documents)"
   ]
  }
 ],
 "metadata": {
  "kernelspec": {
   "display_name": ".venv",
   "language": "python",
   "name": "python3"
  },
  "language_info": {
   "codemirror_mode": {
    "name": "ipython",
    "version": 3
   },
   "file_extension": ".py",
   "mimetype": "text/x-python",
   "name": "python",
   "nbconvert_exporter": "python",
   "pygments_lexer": "ipython3",
   "version": "3.13.2"
  }
 },
 "nbformat": 4,
 "nbformat_minor": 5
}

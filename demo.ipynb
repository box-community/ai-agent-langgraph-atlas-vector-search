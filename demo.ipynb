{
 "cells": [
  {
   "cell_type": "markdown",
   "id": "1b32f20e",
   "metadata": {},
   "source": [
    "### Instantiate a Box client"
   ]
  },
  {
   "cell_type": "code",
   "execution_count": 2,
   "id": "ae268acc",
   "metadata": {},
   "outputs": [
    {
     "name": "stdout",
     "output_type": "stream",
     "text": [
      "Connected to Box as RB Admin (31519033281)\n"
     ]
    }
   ],
   "source": [
    "import os\n",
    "from dotenv import load_dotenv\n",
    "from box_sdk_gen import (\n",
    "    BoxCCGAuth, \n",
    "    CCGConfig, \n",
    "    BoxClient, \n",
    "    FileTokenStorage,\n",
    "    BoxAPIError,\n",
    ")\n",
    "# Read the .env configuration file\n",
    "load_dotenv()\n",
    "\n",
    "client_id = os.getenv(\"BOX_CLIENT_ID\")\n",
    "client_secret = os.getenv(\"BOX_CLIENT_SECRET\")\n",
    "user_id = os.getenv(\"BOX_SUBJECT_ID\")\n",
    "\n",
    "# Create a BoxCCGConfig instance\n",
    "config = CCGConfig(client_id=client_id,\n",
    "                   client_secret=client_secret,\n",
    "                   user_id=user_id,\n",
    "                   token_storage=FileTokenStorage(\".ccg.db\"))\n",
    "# Create a BoxCCGAuth instance\n",
    "auth = BoxCCGAuth(config)\n",
    "# Create a BoxClient instance\n",
    "client = BoxClient(auth)\n",
    "# Test the connection\n",
    "try:\n",
    "    user = client.users.get_user_me()\n",
    "    print(f\"Connected to Box as {user.name} ({user.id})\")\n",
    "except BoxAPIError as e:\n",
    "    print(f\"Failed to connect to Box: {e}\")\n",
    "    exit(1)"
   ]
  }
 ],
 "metadata": {
  "kernelspec": {
   "display_name": ".venv",
   "language": "python",
   "name": "python3"
  },
  "language_info": {
   "codemirror_mode": {
    "name": "ipython",
    "version": 3
   },
   "file_extension": ".py",
   "mimetype": "text/x-python",
   "name": "python",
   "nbconvert_exporter": "python",
   "pygments_lexer": "ipython3",
   "version": "3.13.2"
  }
 },
 "nbformat": 4,
 "nbformat_minor": 5
}
